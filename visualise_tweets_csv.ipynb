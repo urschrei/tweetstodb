{
 "metadata": {
  "name": "",
  "signature": "sha256:1b8d66ff9e005e3eb43b1e9e2ac15ecb727d58281a1d8d8d5f99a93d9a5ebeb1"
 },
 "nbformat": 3,
 "nbformat_minor": 0,
 "worksheets": [
  {
   "cells": [
    {
     "cell_type": "code",
     "collapsed": false,
     "input": [
      "import pandas as pd\n",
      "import numpy as np\n",
      "import matplotlib.pyplot as plt\n",
      "%matplotlib inline"
     ],
     "language": "python",
     "metadata": {},
     "outputs": [],
     "prompt_number": 2
    },
    {
     "cell_type": "code",
     "collapsed": false,
     "input": [
      "from matplotlib import rc\n",
      "rc('font', **{'family':'sans-serif',\n",
      "    'sans-serif':['Helvetica'],\n",
      "    'monospace': ['Inconsolata'],\n",
      "    'serif': ['Helvetica']})\n",
      "rc('text', **{'usetex': True})\n",
      "rc('text', **{'latex.preamble': '\\usepackage{sfmath}'})"
     ],
     "language": "python",
     "metadata": {},
     "outputs": [],
     "prompt_number": 5
    },
    {
     "cell_type": "code",
     "collapsed": false,
     "input": [
      "# get data from CSV, and wrangle\n",
      "data = pd.read_csv(\n",
      "    'data.csv', \n",
      "    parse_dates={'Timestamp': ['timestamp']},\n",
      "    index_col='Timestamp')\n",
      "ts = data.resample('D', how='count').unstack(level=1).ix[:, 3:]\n",
      "ts = ts.rename(\n",
      "    columns={\n",
      "        'tweet_id': 'Total Tweets',\n",
      "        'coordinates': 'Geotagged Tweets'})\n",
      "ct = data['tweet_id'].count()\n",
      "ts = ts.sort_index(axis=1)"
     ],
     "language": "python",
     "metadata": {},
     "outputs": []
    },
    {
     "cell_type": "code",
     "collapsed": false,
     "input": [
      "# plot\n",
      "plt.clf()\n",
      "fig = plt.figure(figsize=(7.28, 5.25))\n",
      "ax = fig.add_subplot(111, axisbg='none')\n",
      "ts.plot(\n",
      "    ax=ax,\n",
      "    kind=\"bar\",\n",
      "    stacked=\"true\",\n",
      "    title=\"Tweets from @brockleycentral's followers (Total Tweets: %s)\" % '{0:,}'.format(ct),\n",
      "    # I happen to like teal and orange\n",
      "    color=[\"#ff8300\", \"#009aaf\"],\n",
      "    lw=.5,\n",
      "    ec='#000000')\n",
      "leg = ax.legend(loc='best', title=\"Daily Tweet Count\")\n",
      "frame = leg.get_frame()\n",
      "frame.set_alpha(0.4)\n",
      "# default formatting shows hours and gets cut off\n",
      "ax.set_xticklabels(\n",
      "    [dt.strftime(\"%d-%m-%Y\") for dt in ts.index.to_pydatetime()])\n",
      "# magic tick text font size setting from http://bit.ly/1549oI1\n",
      "plt.setp(ax.get_yticklabels(), fontsize=8)\n",
      "ax.set_ylabel(\"Number of Tweets\")\n",
      "ax.set_xlabel(\"Date\")\n",
      "ax.grid(b=None)\n",
      "plt.tight_layout()\n",
      "plt.savefig(\"example.png\", format=\"png\", bbox_inches='tight', transparent=True, dpi=100)\n",
      "plt.show()"
     ],
     "language": "python",
     "metadata": {},
     "outputs": [
      {
       "metadata": {},
       "output_type": "display_data",
       "text": [
        "<matplotlib.figure.Figure at 0x10d7d0590>"
       ]
      },
      {
       "metadata": {},
       "output_type": "display_data",
       "png": "[encoded data removed]",
       "text": [
        "<matplotlib.figure.Figure at 0x10d7d00d0>"
       ]
      }
     ],
     "prompt_number": 12
    },
    {
     "cell_type": "code",
     "collapsed": false,
     "input": [],
     "language": "python",
     "metadata": {},
     "outputs": []
    }
   ],
   "metadata": {}
  }
 ]
}